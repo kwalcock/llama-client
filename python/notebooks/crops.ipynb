{
 "cells": [
  {
   "cell_type": "code",
   "execution_count": 1,
   "id": "f11e64c5-e56f-44e5-bd38-4d20688bf6d1",
   "metadata": {},
   "outputs": [
    {
     "data": {
      "text/plain": [
       "'../models/openchat-3.5-0106.Q5_K_M.gguf'"
      ]
     },
     "execution_count": 1,
     "metadata": {},
     "output_type": "execute_result"
    }
   ],
   "source": [
    "from huggingface_hub import hf_hub_download\n",
    "\n",
    "model_path = hf_hub_download(\n",
    "    repo_id='TheBloke/openchat-3.5-0106-GGUF',\n",
    "    filename='openchat-3.5-0106.Q5_K_M.gguf',\n",
    "    local_dir='../models'\n",
    ")\n",
    "\n",
    "model_path"
   ]
  },
  {
   "cell_type": "code",
   "execution_count": 2,
   "id": "28b96110-cdf6-4a52-8d7a-2b30e92aef96",
   "metadata": {},
   "outputs": [],
   "source": [
    "from ai_den.llama_cpp import LlamaCpp\n",
    "\n",
    "model = LlamaCpp(model_path)"
   ]
  },
  {
   "cell_type": "code",
   "execution_count": 3,
   "id": "9e42ddde-2b9e-42fc-a086-e756730c3588",
   "metadata": {},
   "outputs": [],
   "source": [
    "import inspect\n",
    "import docstring_parser\n",
    "from ai_den.utils.dataclasses import to_json, from_json\n",
    "from ai_den.utils.json_schema import json_schema\n",
    "\n",
    "template = \"\"\"\\\n",
    "{text}\n",
    "\n",
    "You are an advanced artificial intelligence system designed to extract key agricultural information from conversations.\n",
    "Given the critical importance of accuracy in agricultural contexts—where decisions based on this information can significantly impact crop yield, financial outcomes, and resource management—you must ensure exceptionally high accuracy in your extractions.\n",
    "\n",
    "Instructions:\n",
    "1. **Read Carefully**: Read the preceding text carefully to identify and extract information relevant to agricultural contexts.\n",
    "2. **Schema Compliance**: Use the following schema to guide your information extraction process and format your responses:\n",
    "   {schema}\n",
    "\n",
    "3. **JSON Format**: Return the extracted data in JSON format. Follow the example provided to ensure accuracy in your response format:\n",
    "   {example}\n",
    "   \n",
    "4. **Exclusivity and Precision**: Do not include any information that is not explicitly mentioned in the text. Analyze the text carefully to ensure all requested data is extracted accurately and included only once in your response.\n",
    "5. **Adherence to Format**: Adhere strictly to the response format. Ensure that your JSON output does not contain extra spaces or text that deviates from the specified schema.\n",
    "\n",
    "Your role is crucial in supporting informed decision-making in the agricultural sector by providing reliable, timely, and context-aware data extraction. Adapt and refine your extraction techniques based on feedback and evolving agricultural practices to maintain relevance and accuracy over time.\n",
    "\"\"\"\n",
    "\n",
    "def extract_objects(text, data_class):\n",
    "    print(\"Keith was here 1!\")\n",
    "    example = docstring_parser.parse(inspect.getdoc(data_class)).examples[0].description\n",
    "    print(\"Keith was here 2!\")\n",
    "    prompt = template.format(text=text, schema=json_schema(data_class), example=example)\n",
    "    print(\"Keith was here 3!\")\n",
    "    output = model(prompt, verbose=True, json_mode=True)\n",
    "    print(\"Keith was here 4!\")\n",
    "    return from_json(data_class, output)"
   ]
  },
  {
   "cell_type": "code",
   "execution_count": 4,
   "id": "cb1bd7bb-45e2-4b71-8a54-7c4e1cad0eab",
   "metadata": {},
   "outputs": [],
   "source": [
    "from dataclasses import dataclass\n",
    "from typing import Optional, Union\n",
    "\n",
    "\n",
    "@dataclass\n",
    "class PlantingEvent:\n",
    "    \"\"\"\n",
    "    An entry of agricultural information mentioned in a conversation.\n",
    "\n",
    "    Args:\n",
    "        crop: The type of crop that was planted.\n",
    "        date: The date when the crop was planted. This can include a specific date, a month, or just a year. The format may vary, and the field should capture the most specific date information available. If only a part of the date is mentioned (e.g., just the month or season), this should still be captured.\n",
    "\n",
    "    Example:\n",
    "        From a statement like \"We planted corn in early May in Iowa using no-till,\" the extracted information should be:\n",
    "        [{\"crop\": \"corn\", \"date\": \"early May\"}]\n",
    "    \"\"\"\n",
    "    crop: Optional[str] = None\n",
    "    date: Optional[str] = None\n",
    "\n",
    "\n",
    "@dataclass\n",
    "class Yield:\n",
    "    \"\"\"\n",
    "    A measurement of yield.\n",
    "\n",
    "    Args:\n",
    "        amount: The numerical value representing the yield.\n",
    "        units: The units used to measure the yield amount, incorporating relevant qualifiers that describe the yield's characteristics or specifications.\n",
    "        description: Additional descriptors or specifications associated with the yield, such as weight or quality indicators.\n",
    "    \n",
    "    Example:\n",
    "        For a statement like \"We produced 5 barrels total. We are talking about 53 gallon barrels.\" the extracted information should be:\n",
    "        [{\"amount\": \"5\", \"units\": \"barrels\", \"description\": \"53 gallon barrels\"}]\n",
    "    \"\"\"\n",
    "    amount: Optional[str] = None\n",
    "    units: Optional[str] = None\n",
    "    description: Optional[str] = None"
   ]
  },
  {
   "cell_type": "code",
   "execution_count": 5,
   "id": "d8aff540-0de7-4fdd-b8ce-c70c885194d2",
   "metadata": {},
   "outputs": [
    {
     "name": "stdout",
     "output_type": "stream",
     "text": [
      "{\n",
      "    \"description\": \"An entry of agricultural information mentioned in a conversation.\",\n",
      "    \"properties\": {\n",
      "        \"crop\": {\n",
      "            \"anyOf\": [\n",
      "                {\n",
      "                    \"type\": \"string\"\n",
      "                },\n",
      "                {\n",
      "                    \"type\": \"null\"\n",
      "                }\n",
      "            ],\n",
      "            \"default\": null,\n",
      "            \"description\": \"The type of crop that was planted.\"\n",
      "        },\n",
      "        \"date\": {\n",
      "            \"anyOf\": [\n",
      "                {\n",
      "                    \"type\": \"string\"\n",
      "                },\n",
      "                {\n",
      "                    \"type\": \"null\"\n",
      "                }\n",
      "            ],\n",
      "            \"default\": null,\n",
      "            \"description\": \"The date when the crop was planted. This can include a specific date, a month, or just a year. The format may vary, and the field should capture the most specific date information available. If only a part of the date is mentioned (e.g., just the month or season), this should still be captured.\"\n",
      "        }\n",
      "    },\n",
      "    \"type\": \"object\"\n",
      "}\n"
     ]
    }
   ],
   "source": [
    "print(json_schema(PlantingEvent, indent=4))"
   ]
  },
  {
   "cell_type": "code",
   "execution_count": 12,
   "id": "c582e656-341b-4c45-b3a7-da1969d0060f",
   "metadata": {},
   "outputs": [
    {
     "name": "stdout",
     "output_type": "stream",
     "text": [
      "Keith was here 1!\n",
      "Keith was here 2!\n",
      "Keith was here 3!\n"
     ]
    },
    {
     "data": {
      "text/markdown": [
       "```json\n",
       " [{\"crop\": \"grain sorghum\", \"date\": \"2021\"}]\n",
       "```"
      ],
      "text/plain": [
       "<IPython.core.display.Markdown object>"
      ]
     },
     "metadata": {},
     "output_type": "display_data"
    },
    {
     "name": "stdout",
     "output_type": "stream",
     "text": [
      "Keith was here 4!\n",
      "Elapsed time: 9.473866939544678\n"
     ]
    }
   ],
   "source": [
    "text = \"\"\"\n",
    "<speaker_1> Okay. Very cool. So the 2021 was probably grain sorghum then? \n",
    "<speaker_2> Yeah. 21 would've been grain sorghum. Yeah.\n",
    "\"\"\"\n",
    "\n",
    "import time\n",
    "\n",
    "start = time.time()\n",
    "extract_objects(text, PlantingEvent)\n",
    "end = time.time()\n",
    "print(\"Elapsed time:\", end - start)\n"
   ]
  },
  {
   "cell_type": "code",
   "execution_count": 11,
   "id": "5473f45a-216a-4740-a147-4af701586549",
   "metadata": {},
   "outputs": [
    {
     "name": "stdout",
     "output_type": "stream",
     "text": [
      "Keith was here 1!\n",
      "Keith was here 2!\n",
      "Keith was here 3!\n"
     ]
    },
    {
     "data": {
      "text/markdown": [
       "```json\n",
       " [{\"crop\": null, \"date\": null}]\n",
       "```"
      ],
      "text/plain": [
       "<IPython.core.display.Markdown object>"
      ]
     },
     "metadata": {},
     "output_type": "display_data"
    },
    {
     "name": "stdout",
     "output_type": "stream",
     "text": [
      "Keith was here 4!\n",
      "Elapsed time: 1.7391810417175293\n"
     ]
    }
   ],
   "source": [
    "text = \"\"\"\n",
    "<speaker_1> Yes.\n",
    "<speaker_2> All right. And do you have a yield for that?\n",
    "<speaker_1> That's usually all over the board, depending on how much moisture we get, but let's see. Try to hit 5 round bales to the acre for first cutting and that would be 800 pound bales. 2, trying to make my brain learn. \n",
    "<speaker_2> and we're giving you some math problems here.\n",
    "\"\"\"\n",
    "\n",
    "start = time.time()\n",
    "extract_objects(text, PlantingEvent)\n",
    "end = time.time()\n",
    "print(\"Elapsed time:\", end - start)"
   ]
  },
  {
   "cell_type": "code",
   "execution_count": 8,
   "id": "9c3f5ee6-fb4a-4265-a327-cab70c7d3255",
   "metadata": {},
   "outputs": [
    {
     "name": "stdout",
     "output_type": "stream",
     "text": [
      "Keith was here 1!\n",
      "Keith was here 2!\n",
      "Keith was here 3!\n"
     ]
    },
    {
     "data": {
      "text/markdown": [
       "```json\n",
       " [{\"amount\": \"5\", \"units\": \"round bales per acre\", \"description\": \"First cutting, 800 pound bales\"}]\n",
       "```"
      ],
      "text/plain": [
       "<IPython.core.display.Markdown object>"
      ]
     },
     "metadata": {},
     "output_type": "display_data"
    },
    {
     "name": "stdout",
     "output_type": "stream",
     "text": [
      "Keith was here 4!\n"
     ]
    },
    {
     "data": {
      "text/plain": [
       "[Yield(amount='5', units='round bales per acre', description='First cutting, 800 pound bales')]"
      ]
     },
     "execution_count": 8,
     "metadata": {},
     "output_type": "execute_result"
    }
   ],
   "source": [
    "text = \"\"\"\n",
    "<speaker_1> Yes.\n",
    "<speaker_2> All right. And do you have a yield for that?\n",
    "<speaker_1> That's usually all over the board, depending on how much moisture we get, but let's see. Try to hit 5 round bales to the acre for first cutting and that would be 800 pound bales. 2, trying to make my brain learn. \n",
    "<speaker_2> and we're giving you some math problems here.\n",
    "\"\"\"\n",
    "\n",
    "start = time.time()\n",
    "extract_objects(text, Yield)\n",
    "end = time.time()\n",
    "print(\"Elapsed time:\", end - start)"
   ]
  },
  {
   "cell_type": "code",
   "execution_count": null,
   "id": "1cf04d18-57bb-4764-a048-6ba27337b9ec",
   "metadata": {},
   "outputs": [],
   "source": []
  }
 ],
 "metadata": {
  "kernelspec": {
   "display_name": "Python (ai_den)",
   "language": "python",
   "name": "ai_den"
  },
  "language_info": {
   "codemirror_mode": {
    "name": "ipython",
    "version": 3
   },
   "file_extension": ".py",
   "mimetype": "text/x-python",
   "name": "python",
   "nbconvert_exporter": "python",
   "pygments_lexer": "ipython3",
   "version": "3.10.4"
  }
 },
 "nbformat": 4,
 "nbformat_minor": 5
}
